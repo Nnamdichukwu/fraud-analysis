{
 "cells": [
  {
   "cell_type": "code",
   "execution_count": 1,
   "metadata": {},
   "outputs": [],
   "source": [
    "import pandas as pd\n",
    "import numpy as np\n",
    "import matplotlib.pyplot as plt\n",
    "import seaborn as sns\n"
   ]
  },
  {
   "cell_type": "code",
   "execution_count": 2,
   "metadata": {},
   "outputs": [],
   "source": [
    "df = pd.read_csv('C:\\\\Users\\\\Hotelsng\\\\Downloads\\\\RIghteous Law Firm-Knife Nnamdi\\\\RIghteous-Law-Firm\\\\Workers-Compensation\\\\workcomp.csv')"
   ]
  },
  {
   "cell_type": "code",
   "execution_count": 3,
   "metadata": {
    "scrolled": true
   },
   "outputs": [
    {
     "data": {
      "text/html": [
       "<div>\n",
       "<style scoped>\n",
       "    .dataframe tbody tr th:only-of-type {\n",
       "        vertical-align: middle;\n",
       "    }\n",
       "\n",
       "    .dataframe tbody tr th {\n",
       "        vertical-align: top;\n",
       "    }\n",
       "\n",
       "    .dataframe thead th {\n",
       "        text-align: right;\n",
       "    }\n",
       "</style>\n",
       "<table border=\"1\" class=\"dataframe\">\n",
       "  <thead>\n",
       "    <tr style=\"text-align: right;\">\n",
       "      <th></th>\n",
       "      <th>Claim Number</th>\n",
       "      <th>Adjustor Notes</th>\n",
       "      <th>Body Part</th>\n",
       "      <th>Nature of Injury</th>\n",
       "      <th>Cause of Injury</th>\n",
       "      <th>Vehicle Flag (1=Motor Vehicle Involved)</th>\n",
       "      <th>Subrogation (1=Yes 0=No)</th>\n",
       "      <th>Fraud Flag (1=Yes 0=No)</th>\n",
       "    </tr>\n",
       "  </thead>\n",
       "  <tbody>\n",
       "    <tr>\n",
       "      <th>0</th>\n",
       "      <td>4487308</td>\n",
       "      <td>Strained neck trying to catch falling product.</td>\n",
       "      <td>Neck</td>\n",
       "      <td>Sprain/Strain</td>\n",
       "      <td>Slip/Fall</td>\n",
       "      <td>0</td>\n",
       "      <td>1</td>\n",
       "      <td>0</td>\n",
       "    </tr>\n",
       "    <tr>\n",
       "      <th>1</th>\n",
       "      <td>309831108</td>\n",
       "      <td>Fingers caught in machine.</td>\n",
       "      <td>Finger</td>\n",
       "      <td>Contusion</td>\n",
       "      <td>Caught in Machine</td>\n",
       "      <td>0</td>\n",
       "      <td>0</td>\n",
       "      <td>0</td>\n",
       "    </tr>\n",
       "    <tr>\n",
       "      <th>2</th>\n",
       "      <td>1301185908</td>\n",
       "      <td>Claimant caught left hand between two machine ...</td>\n",
       "      <td>Hand</td>\n",
       "      <td>Laceration</td>\n",
       "      <td>Equipment/Machinery</td>\n",
       "      <td>0</td>\n",
       "      <td>0</td>\n",
       "      <td>0</td>\n",
       "    </tr>\n",
       "    <tr>\n",
       "      <th>3</th>\n",
       "      <td>1716965808</td>\n",
       "      <td>Claimant states that while he and coworker wer...</td>\n",
       "      <td>Multiple</td>\n",
       "      <td>Contusion</td>\n",
       "      <td>Struck Object</td>\n",
       "      <td>1</td>\n",
       "      <td>1</td>\n",
       "      <td>0</td>\n",
       "    </tr>\n",
       "    <tr>\n",
       "      <th>4</th>\n",
       "      <td>1924817308</td>\n",
       "      <td>Smashed right second finger, was using a drill...</td>\n",
       "      <td>Finger</td>\n",
       "      <td>Contusion</td>\n",
       "      <td>Struck Object</td>\n",
       "      <td>0</td>\n",
       "      <td>0</td>\n",
       "      <td>0</td>\n",
       "    </tr>\n",
       "  </tbody>\n",
       "</table>\n",
       "</div>"
      ],
      "text/plain": [
       "   Claim Number                                     Adjustor Notes Body Part  \\\n",
       "0       4487308     Strained neck trying to catch falling product.      Neck   \n",
       "1     309831108                         Fingers caught in machine.    Finger   \n",
       "2    1301185908  Claimant caught left hand between two machine ...      Hand   \n",
       "3    1716965808  Claimant states that while he and coworker wer...  Multiple   \n",
       "4    1924817308  Smashed right second finger, was using a drill...    Finger   \n",
       "\n",
       "  Nature of Injury      Cause of Injury  \\\n",
       "0    Sprain/Strain            Slip/Fall   \n",
       "1        Contusion    Caught in Machine   \n",
       "2       Laceration  Equipment/Machinery   \n",
       "3        Contusion        Struck Object   \n",
       "4        Contusion        Struck Object   \n",
       "\n",
       "   Vehicle Flag (1=Motor Vehicle Involved)  Subrogation (1=Yes 0=No)  \\\n",
       "0                                        0                         1   \n",
       "1                                        0                         0   \n",
       "2                                        0                         0   \n",
       "3                                        1                         1   \n",
       "4                                        0                         0   \n",
       "\n",
       "   Fraud Flag (1=Yes 0=No)  \n",
       "0                        0  \n",
       "1                        0  \n",
       "2                        0  \n",
       "3                        0  \n",
       "4                        0  "
      ]
     },
     "execution_count": 3,
     "metadata": {},
     "output_type": "execute_result"
    }
   ],
   "source": [
    "df.head()"
   ]
  },
  {
   "cell_type": "code",
   "execution_count": 4,
   "metadata": {
    "scrolled": true
   },
   "outputs": [
    {
     "data": {
      "text/plain": [
       "Back        706\n",
       "Finger      263\n",
       "Head        233\n",
       "Arm         215\n",
       "Hand        200\n",
       "Multiple    160\n",
       "Knee        151\n",
       "Wrist       136\n",
       "Leg         131\n",
       "Foot        128\n",
       "Shoulder    120\n",
       "Ankle       116\n",
       "Neck        111\n",
       "Eye         105\n",
       "Spine        41\n",
       "Groin        37\n",
       "Elbow        34\n",
       "Torso        34\n",
       "Face         26\n",
       "Toes         20\n",
       "Ribs         15\n",
       "Jaw          13\n",
       "Tooth        13\n",
       "Hip          11\n",
       "Unknown       8\n",
       "Abdomen       7\n",
       "Ear           3\n",
       "Name: Body Part, dtype: int64"
      ]
     },
     "execution_count": 4,
     "metadata": {},
     "output_type": "execute_result"
    }
   ],
   "source": [
    "df['Body Part'].value_counts()"
   ]
  },
  {
   "cell_type": "code",
   "execution_count": 7,
   "metadata": {},
   "outputs": [
    {
     "data": {
      "text/plain": [
       "<matplotlib.axes._subplots.AxesSubplot at 0x9d157b0>"
      ]
     },
     "execution_count": 7,
     "metadata": {},
     "output_type": "execute_result"
    },
    {
     "data": {
      "image/png": "[encoded data removed]",
      "text/plain": [
       "<Figure size 720x360 with 1 Axes>"
      ]
     },
     "metadata": {
      "needs_background": "light"
     },
     "output_type": "display_data"
    }
   ],
   "source": [
    "df['Body Part'].value_counts(normalize=True).plot.barh(figsize=(10,5), title= \"Body Parts\")"
   ]
  },
  {
   "cell_type": "code",
   "execution_count": 8,
   "metadata": {},
   "outputs": [
    {
     "data": {
      "text/html": [
       "<div>\n",
       "<style scoped>\n",
       "    .dataframe tbody tr th:only-of-type {\n",
       "        vertical-align: middle;\n",
       "    }\n",
       "\n",
       "    .dataframe tbody tr th {\n",
       "        vertical-align: top;\n",
       "    }\n",
       "\n",
       "    .dataframe thead th {\n",
       "        text-align: right;\n",
       "    }\n",
       "</style>\n",
       "<table border=\"1\" class=\"dataframe\">\n",
       "  <thead>\n",
       "    <tr style=\"text-align: right;\">\n",
       "      <th></th>\n",
       "      <th>Claim Number</th>\n",
       "      <th>Vehicle Flag (1=Motor Vehicle Involved)</th>\n",
       "      <th>Subrogation (1=Yes 0=No)</th>\n",
       "      <th>Fraud Flag (1=Yes 0=No)</th>\n",
       "    </tr>\n",
       "  </thead>\n",
       "  <tbody>\n",
       "    <tr>\n",
       "      <th>count</th>\n",
       "      <td>3.037000e+03</td>\n",
       "      <td>3037.000000</td>\n",
       "      <td>3037.000000</td>\n",
       "      <td>3037.000000</td>\n",
       "    </tr>\n",
       "    <tr>\n",
       "      <th>mean</th>\n",
       "      <td>5.073929e+11</td>\n",
       "      <td>0.183734</td>\n",
       "      <td>0.373724</td>\n",
       "      <td>0.030622</td>\n",
       "    </tr>\n",
       "    <tr>\n",
       "      <th>std</th>\n",
       "      <td>2.802494e+11</td>\n",
       "      <td>0.387331</td>\n",
       "      <td>0.483871</td>\n",
       "      <td>0.172321</td>\n",
       "    </tr>\n",
       "    <tr>\n",
       "      <th>min</th>\n",
       "      <td>4.487308e+06</td>\n",
       "      <td>0.000000</td>\n",
       "      <td>0.000000</td>\n",
       "      <td>0.000000</td>\n",
       "    </tr>\n",
       "    <tr>\n",
       "      <th>25%</th>\n",
       "      <td>2.776204e+11</td>\n",
       "      <td>0.000000</td>\n",
       "      <td>0.000000</td>\n",
       "      <td>0.000000</td>\n",
       "    </tr>\n",
       "    <tr>\n",
       "      <th>50%</th>\n",
       "      <td>4.985097e+11</td>\n",
       "      <td>0.000000</td>\n",
       "      <td>0.000000</td>\n",
       "      <td>0.000000</td>\n",
       "    </tr>\n",
       "    <tr>\n",
       "      <th>75%</th>\n",
       "      <td>7.440163e+11</td>\n",
       "      <td>0.000000</td>\n",
       "      <td>1.000000</td>\n",
       "      <td>0.000000</td>\n",
       "    </tr>\n",
       "    <tr>\n",
       "      <th>max</th>\n",
       "      <td>9.998150e+11</td>\n",
       "      <td>1.000000</td>\n",
       "      <td>1.000000</td>\n",
       "      <td>1.000000</td>\n",
       "    </tr>\n",
       "  </tbody>\n",
       "</table>\n",
       "</div>"
      ],
      "text/plain": [
       "       Claim Number  Vehicle Flag (1=Motor Vehicle Involved)  \\\n",
       "count  3.037000e+03                              3037.000000   \n",
       "mean   5.073929e+11                                 0.183734   \n",
       "std    2.802494e+11                                 0.387331   \n",
       "min    4.487308e+06                                 0.000000   \n",
       "25%    2.776204e+11                                 0.000000   \n",
       "50%    4.985097e+11                                 0.000000   \n",
       "75%    7.440163e+11                                 0.000000   \n",
       "max    9.998150e+11                                 1.000000   \n",
       "\n",
       "       Subrogation (1=Yes 0=No)  Fraud Flag (1=Yes 0=No)  \n",
       "count               3037.000000              3037.000000  \n",
       "mean                   0.373724                 0.030622  \n",
       "std                    0.483871                 0.172321  \n",
       "min                    0.000000                 0.000000  \n",
       "25%                    0.000000                 0.000000  \n",
       "50%                    0.000000                 0.000000  \n",
       "75%                    1.000000                 0.000000  \n",
       "max                    1.000000                 1.000000  "
      ]
     },
     "execution_count": 8,
     "metadata": {},
     "output_type": "execute_result"
    }
   ],
   "source": [
    "df.describe()"
   ]
  },
  {
   "cell_type": "code",
   "execution_count": 5,
   "metadata": {},
   "outputs": [],
   "source": [
    "body_count= pd.crosstab(df[\"Body Part\"], df[\"Fraud Flag (1=Yes 0=No)\"])"
   ]
  },
  {
   "cell_type": "code",
   "execution_count": null,
   "metadata": {},
   "outputs": [],
   "source": [
    "body_count"
   ]
  }
 ],
 "metadata": {
  "kernelspec": {
   "display_name": "Python 3",
   "language": "python",
   "name": "python3"
  },
  "language_info": {
   "codemirror_mode": {
    "name": "ipython",
    "version": 3
   },
   "file_extension": ".py",
   "mimetype": "text/x-python",
   "name": "python",
   "nbconvert_exporter": "python",
   "pygments_lexer": "ipython3",
   "version": "3.7.1"
  }
 },
 "nbformat": 4,
 "nbformat_minor": 2
}
